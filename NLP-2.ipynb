{
 "cells": [
  {
   "cell_type": "code",
   "execution_count": null,
   "id": "08d14789",
   "metadata": {},
   "outputs": [],
   "source": [
    "1. What are Corpora?\n",
    "Ans: A corpus is a large and structured set of machine-readable texts that have been produced in a natural communicative\n",
    "    setting. Its plural is corpora. They can be derived in different ways like text that was originally electronic, transcripts\n",
    "    of spoken language and optical character recognition, etc."
   ]
  },
  {
   "cell_type": "code",
   "execution_count": null,
   "id": "3450853d",
   "metadata": {},
   "outputs": [],
   "source": [
    "2. What are Tokens?\n",
    "Ans: Tokens are the building blocks of Natural Language. Tokenization is a way of separating a piece of text into smaller\n",
    "    units called tokens. Here, tokens can be either words, characters, or subwords. Hence, tokenization can be broadly \n",
    "    classified into 3 types – word, character, and subword (n-gram characters) tokenization."
   ]
  },
  {
   "cell_type": "code",
   "execution_count": null,
   "id": "48ec502c",
   "metadata": {},
   "outputs": [],
   "source": [
    "3. What are Unigrams, Bigrams, Trigrams?\n",
    "Ans: In Natural Language Processing n-gram is a contiguous sequence of n items generated from a given sample of text where the\n",
    "    items can be characters or words and n can be any numbers like 1,2,3, etc"
   ]
  },
  {
   "cell_type": "code",
   "execution_count": null,
   "id": "82b886e8",
   "metadata": {},
   "outputs": [],
   "source": [
    "4. How to generate n-grams from text?"
   ]
  },
  {
   "cell_type": "code",
   "execution_count": 2,
   "id": "8070eff8",
   "metadata": {},
   "outputs": [
    {
     "name": "stdout",
     "output_type": "stream",
     "text": [
      "------------------------- Unigram -------------------------\n",
      "('Life',),('is',),('either',),('a',),('daring',),('adventure',),('or',),('nothing',),('at',),('all',),\n",
      "------------------------- Bigram -------------------------\n",
      "('Life', 'is'),('is', 'either'),('either', 'a'),('a', 'daring'),('daring', 'adventure'),('adventure', 'or'),('or', 'nothing'),('nothing', 'at'),('at', 'all'),\n",
      "------------------------- Trigram -------------------------\n",
      "('Life', 'is', 'either'),('is', 'either', 'a'),('either', 'a', 'daring'),('a', 'daring', 'adventure'),('daring', 'adventure', 'or'),('adventure', 'or', 'nothing'),('or', 'nothing', 'at'),('nothing', 'at', 'all'),\n",
      "------------------------- Everygram -------------------------\n",
      "[('Life',), ('Life', 'is'), ('Life', 'is', 'either'), ('Life', 'is', 'either', 'a'), ('Life', 'is', 'either', 'a', 'daring'), ('Life', 'is', 'either', 'a', 'daring', 'adventure'), ('Life', 'is', 'either', 'a', 'daring', 'adventure', 'or'), ('Life', 'is', 'either', 'a', 'daring', 'adventure', 'or', 'nothing'), ('Life', 'is', 'either', 'a', 'daring', 'adventure', 'or', 'nothing', 'at'), ('Life', 'is', 'either', 'a', 'daring', 'adventure', 'or', 'nothing', 'at', 'all'), ('is',), ('is', 'either'), ('is', 'either', 'a'), ('is', 'either', 'a', 'daring'), ('is', 'either', 'a', 'daring', 'adventure'), ('is', 'either', 'a', 'daring', 'adventure', 'or'), ('is', 'either', 'a', 'daring', 'adventure', 'or', 'nothing'), ('is', 'either', 'a', 'daring', 'adventure', 'or', 'nothing', 'at'), ('is', 'either', 'a', 'daring', 'adventure', 'or', 'nothing', 'at', 'all'), ('either',), ('either', 'a'), ('either', 'a', 'daring'), ('either', 'a', 'daring', 'adventure'), ('either', 'a', 'daring', 'adventure', 'or'), ('either', 'a', 'daring', 'adventure', 'or', 'nothing'), ('either', 'a', 'daring', 'adventure', 'or', 'nothing', 'at'), ('either', 'a', 'daring', 'adventure', 'or', 'nothing', 'at', 'all'), ('a',), ('a', 'daring'), ('a', 'daring', 'adventure'), ('a', 'daring', 'adventure', 'or'), ('a', 'daring', 'adventure', 'or', 'nothing'), ('a', 'daring', 'adventure', 'or', 'nothing', 'at'), ('a', 'daring', 'adventure', 'or', 'nothing', 'at', 'all'), ('daring',), ('daring', 'adventure'), ('daring', 'adventure', 'or'), ('daring', 'adventure', 'or', 'nothing'), ('daring', 'adventure', 'or', 'nothing', 'at'), ('daring', 'adventure', 'or', 'nothing', 'at', 'all'), ('adventure',), ('adventure', 'or'), ('adventure', 'or', 'nothing'), ('adventure', 'or', 'nothing', 'at'), ('adventure', 'or', 'nothing', 'at', 'all'), ('or',), ('or', 'nothing'), ('or', 'nothing', 'at'), ('or', 'nothing', 'at', 'all'), ('nothing',), ('nothing', 'at'), ('nothing', 'at', 'all'), ('at',), ('at', 'all'), ('all',)]\n"
     ]
    }
   ],
   "source": [
    "from nltk.util import ngrams, everygrams\n",
    "\n",
    "def ngram_convertor(sentence,n=3):\n",
    "    ngram_sentence = ngrams(sentence.split(), n)\n",
    "    for item in ngram_sentence:\n",
    "        print(item,end=',')\n",
    "    print()\n",
    "        \n",
    "sentence = \"Life is either a daring adventure or nothing at all\"\n",
    "print('-'*25,'Unigram','-'*25)\n",
    "ngram_convertor(sentence,1)\n",
    "print('-'*25,'Bigram','-'*25)\n",
    "ngram_convertor(sentence,2)\n",
    "print('-'*25,'Trigram','-'*25)\n",
    "ngram_convertor(sentence,3)\n",
    "print('-'*25,'Everygram','-'*25)\n",
    "print(list(everygrams(sentence.split())))"
   ]
  },
  {
   "cell_type": "code",
   "execution_count": null,
   "id": "9634c44d",
   "metadata": {},
   "outputs": [],
   "source": [
    "5. Explain Lemmatization ?\n",
    "\n",
    "Ans: Stemming and Lemmatization are Text Normalization (or sometimes called Word Normalization) techniques in the field of \n",
    "    Natural Language Processing that are used to prepare text, words, and documents for further processing.\n",
    "\n",
    "Stemming is the process of reducing inflection in words to their root forms such as mapping a group of words to the same stem\n",
    "even if the stem itself is not a valid word in the Language.\n",
    "\n",
    "Lemmatization, unlike Stemming, reduces the inflected words properly ensuring that the root word belongs to the language. In\n",
    "Lemmatization root word is called Lemma. A lemma (plural lemmas or lemmata) is the canonical form, dictionary form, or citation\n",
    "form of a set of words"
   ]
  },
  {
   "cell_type": "code",
   "execution_count": null,
   "id": "fcfea52e",
   "metadata": {},
   "outputs": [],
   "source": [
    "6. Explain Stemming ?\n",
    "\n",
    "Ans: Stemming is the process of reducing a word to its word stem that affixes to suffixes and prefixes or to the roots of\n",
    "    words known as a lemma. Stemming is important in natural language understanding (NLU) and natural language processing (NLP)."
   ]
  },
  {
   "cell_type": "code",
   "execution_count": null,
   "id": "e8e589ae",
   "metadata": {},
   "outputs": [],
   "source": [
    "7. Explain Part-of-speech (POS) tagging ?\n",
    "\n",
    "Ans: Part-of-speech (POS) tagging may be defined as the process of converting a sentence in the form of a list of words, into a \n",
    "    list of tuples. Here, the tuples are in the form of (word, tag). We can also call POS tagging a process of assigning one of \n",
    "    the parts of speech to the given word.\n",
    "\n",
    "In simple words, we can say that POS tagging is a task of labelling each word in a sentence with its appropriate part of speech.\n",
    "We already know that parts of speech include nouns, verb, adverbs, adjectives, pronouns, conjunction and their sub-categories.\n",
    "\n",
    "\n",
    "Most of the POS tagging falls under Rule Base POS tagging, Stochastic POS tagging and Transformation based tagging."
   ]
  },
  {
   "cell_type": "code",
   "execution_count": null,
   "id": "14b2a34a",
   "metadata": {},
   "outputs": [],
   "source": [
    "8. Explain Chunking or shallow parsing ?\n",
    "\n",
    "Ans: Chunking is somewhere between part of speech (POS) tagging and full language parsing, hence the name shallow parsing. \n",
    "    If chunkers are an inbetween stage then why are they relevant? The answer comes down to utility and speed.\n",
    "\n",
    "POS tagging is very fast but often doesn’t provide a ton of utility for information extraction. It’s helpful to know the POS \n",
    "tags, but when we try to derive information about our text we’re still swimming within the unstructured soup of words in a s\n",
    "entence. Knowing that word 1, 4 and 7 in our sentence are nouns won’t often won’t prove useful enough to help us reliably gain\n",
    "knowledge about what our sentence is actually saying; there’s too much room for mistake.\n",
    "\n",
    "POS Tags\n",
    "\n",
    "On the other hand, full parsing is extremely useful: we’re able to understand the syntactic relationship details between the\n",
    "words in our text, and information extraction becomes much easier to define. However, full parsing takes a very long time\n",
    "and will often give you information you don’t necessarily need. Some degree of parsing helps structure our text, but\n",
    "knowing that the determiner in the middle of our sentence is four branches down from the root and part of a nested \n",
    "prepositional clause within a NP clause within the main VP clause…might be overkill, as is the other parse tree produced \n",
    "for our sentence because the syntactic ambiguity in the prepositional clause lends itself to two interpretations: the \n",
    "subject in pajamas shooting an elephant, or the subject shooting the elephant that is wearing his pajamas.\n",
    "\n"
   ]
  },
  {
   "cell_type": "code",
   "execution_count": null,
   "id": "2c109607",
   "metadata": {},
   "outputs": [],
   "source": []
  },
  {
   "cell_type": "code",
   "execution_count": null,
   "id": "982ba767",
   "metadata": {},
   "outputs": [],
   "source": [
    "9. Explain Noun Phrase (NP) chunking ?\n",
    "\n",
    "Ans: Text chunking is dividing sentences into non-overlapping phrases. Noun phrase chunking deals with extracting the noun\n",
    "phrases from a sentence. While NP chunking is much simpler than parsing, it is still a challenging task to build a accurate\n",
    "and very efficient NP chunker. The importance of NP chunking derives from the fact that it is used in many applications."
   ]
  },
  {
   "cell_type": "code",
   "execution_count": null,
   "id": "ba45fbd6",
   "metadata": {},
   "outputs": [],
   "source": [
    "10. Explain Named Entity Recognition ?\n",
    "\n",
    "Ans: Named entity recognition (NER) — sometimes referred to as entity chunking, extraction, or identification — is the task of \n",
    "    identifying and categorizing key information (entities) in text. An entity can be any word or series of words that\n",
    "    consistently refers to the same thing. Every detected entity is classified into a predetermined category. For example, an\n",
    "    NER machine learning (ML) model might detect the word “super.AI” in a text and classify it as a “Company”.\n",
    "\n",
    "NER is a form of natural language processing (NLP), a subfield of artificial intelligence. NLP is concerned with computers \n",
    "processing and analyzing natural language, i.e., any language that has developed naturally, rather than artificially, such as \n",
    "with computer coding languages"
   ]
  }
 ],
 "metadata": {
  "kernelspec": {
   "display_name": "Python 3 (ipykernel)",
   "language": "python",
   "name": "python3"
  },
  "language_info": {
   "codemirror_mode": {
    "name": "ipython",
    "version": 3
   },
   "file_extension": ".py",
   "mimetype": "text/x-python",
   "name": "python",
   "nbconvert_exporter": "python",
   "pygments_lexer": "ipython3",
   "version": "3.10.9"
  }
 },
 "nbformat": 4,
 "nbformat_minor": 5
}
